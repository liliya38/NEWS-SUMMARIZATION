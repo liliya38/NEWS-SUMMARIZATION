{
 "cells": [
  {
   "cell_type": "markdown",
   "id": "34f88dc6",
   "metadata": {},
   "source": [
    "# Importing libraries"
   ]
  },
  {
   "cell_type": "code",
   "execution_count": 2,
   "id": "a24d9fb7",
   "metadata": {},
   "outputs": [],
   "source": [
    "import numpy as np\n",
    "import pandas as pd\n",
    "\n",
    "import matplotlib\n",
    "import matplotlib.pyplot as plt\n",
    "\n",
    "from summarizer import Summarizer,TransformerSummarizer\n",
    "from sklearn.metrics import accuracy_score\n",
    "\n",
    "import warnings\n",
    "warnings.filterwarnings('ignore')"
   ]
  },
  {
   "cell_type": "markdown",
   "id": "b054d13e",
   "metadata": {},
   "source": [
    "# Import the data"
   ]
  },
  {
   "cell_type": "code",
   "execution_count": 3,
   "id": "df18db12",
   "metadata": {},
   "outputs": [
    {
     "data": {
      "text/html": [
       "<div>\n",
       "<style scoped>\n",
       "    .dataframe tbody tr th:only-of-type {\n",
       "        vertical-align: middle;\n",
       "    }\n",
       "\n",
       "    .dataframe tbody tr th {\n",
       "        vertical-align: top;\n",
       "    }\n",
       "\n",
       "    .dataframe thead th {\n",
       "        text-align: right;\n",
       "    }\n",
       "</style>\n",
       "<table border=\"1\" class=\"dataframe\">\n",
       "  <thead>\n",
       "    <tr style=\"text-align: right;\">\n",
       "      <th></th>\n",
       "      <th>text</th>\n",
       "    </tr>\n",
       "  </thead>\n",
       "  <tbody>\n",
       "    <tr>\n",
       "      <th>0</th>\n",
       "      <td>India's food regulator Food Safety and Standar...</td>\n",
       "    </tr>\n",
       "    <tr>\n",
       "      <th>1</th>\n",
       "      <td>The mother of Harshit Sharma, the class 12 Cha...</td>\n",
       "    </tr>\n",
       "    <tr>\n",
       "      <th>2</th>\n",
       "      <td>Municipal Corporation of Gurugram on Wednesday...</td>\n",
       "    </tr>\n",
       "    <tr>\n",
       "      <th>3</th>\n",
       "      <td>Scientists, for the first time, successfully f...</td>\n",
       "    </tr>\n",
       "    <tr>\n",
       "      <th>4</th>\n",
       "      <td>A Union Minister of State for Home Affairs inf...</td>\n",
       "    </tr>\n",
       "  </tbody>\n",
       "</table>\n",
       "</div>"
      ],
      "text/plain": [
       "                                                text\n",
       "0  India's food regulator Food Safety and Standar...\n",
       "1  The mother of Harshit Sharma, the class 12 Cha...\n",
       "2  Municipal Corporation of Gurugram on Wednesday...\n",
       "3  Scientists, for the first time, successfully f...\n",
       "4  A Union Minister of State for Home Affairs inf..."
      ]
     },
     "execution_count": 3,
     "metadata": {},
     "output_type": "execute_result"
    }
   ],
   "source": [
    "df= pd.read_csv('C:/Users/Admin/OneDrive/Desktop/Project/news_summary.csv', encoding='latin-1', usecols=['headlines', 'text'])\n",
    "  \n",
    "from_i = 10\n",
    "count = 5\n",
    "headlines = df['headlines']\n",
    "headlines = headlines[from_i:from_i+count].to_list()\n",
    "df = df['text']\n",
    "df = pd.DataFrame(df[from_i:from_i+count])\n",
    "df.reset_index(inplace=True, drop=True)\n",
    "df"
   ]
  },
  {
   "cell_type": "code",
   "execution_count": 4,
   "id": "108813e6",
   "metadata": {},
   "outputs": [
    {
     "name": "stdout",
     "output_type": "stream",
     "text": [
      "<class 'pandas.core.frame.DataFrame'>\n",
      "RangeIndex: 5 entries, 0 to 4\n",
      "Data columns (total 1 columns):\n",
      " #   Column  Non-Null Count  Dtype \n",
      "---  ------  --------------  ----- \n",
      " 0   text    5 non-null      object\n",
      "dtypes: object(1)\n",
      "memory usage: 168.0+ bytes\n"
     ]
    }
   ],
   "source": [
    "df.info()"
   ]
  },
  {
   "cell_type": "code",
   "execution_count": 5,
   "id": "ad4fed13",
   "metadata": {},
   "outputs": [
    {
     "data": {
      "text/plain": [
       "0    India's food regulator Food Safety and Standar...\n",
       "1    The mother of Harshit Sharma, the class 12 Cha...\n",
       "2    Municipal Corporation of Gurugram on Wednesday...\n",
       "3    Scientists, for the first time, successfully f...\n",
       "4    A Union Minister of State for Home Affairs inf...\n",
       "Name: text, dtype: object"
      ]
     },
     "execution_count": 5,
     "metadata": {},
     "output_type": "execute_result"
    }
   ],
   "source": [
    "df['text'].head(10)"
   ]
  },
  {
   "cell_type": "code",
   "execution_count": 6,
   "id": "3dc46922",
   "metadata": {},
   "outputs": [
    {
     "data": {
      "text/plain": [
       "388"
      ]
     },
     "execution_count": 6,
     "metadata": {},
     "output_type": "execute_result"
    }
   ],
   "source": [
    "df['text'].str.len().max()"
   ]
  },
  {
   "cell_type": "code",
   "execution_count": 7,
   "id": "c99b16d0",
   "metadata": {},
   "outputs": [
    {
     "name": "stdout",
     "output_type": "stream",
     "text": [
      "Length of blocks = 704\n",
      "Length of blocks = 743\n",
      "Length of blocks = 388\n",
      "\n",
      "Number of text blocks = 3\n",
      "\n",
      "Text blocks:\n",
      " ['India\\'s food regulator Food Safety and Standards Authority of India (FSSAI) is planning to create a network to collect leftover food and provide it to the needy. It is looking to connect with organisations which can collect, store and distribute leftover food from weddings and large parties. It further added that all food must meet the safety and hygiene standards. The mother of Harshit Sharma, the class 12 Chandigarh boy who got a hoax job offer call from Google, said that the incident \"devastated\" his life. He got a call, after which he shared the information with the school principal, who sent out a press release. Harshit is hospitalised since Google denied giving him a job, his mother added.', 'Municipal Corporation of Gurugram on Wednesday said that 19 out of 45 commercial building owners have decided to pay property tax instead of providing free parking to the public. Notably, MCG earlier offered a property tax waiver for building basements if they were used to provide free parking. However, the owners allegedly said that revenues from parking profited them more. Scientists, for the first time, successfully freed embryos of a piece of faulty DNA that causes a fatal heart disease to run in families. The disease, called hypertrophic cardiomyopathy, causes the heart to stop suddenly and is the result of an error in a single gene. The breakthrough could lead to preventing 10,000 disorders that are passed down the generations.', 'A Union Minister of State for Home Affairs informed the Lok Sabha on Wednesday that Delhi\\'s 2,297 residential buildings under the Central Public Works Department were found to be \"unsafe\". Another 124 buildings under the New Delhi Municipal Council were identified as dangerous. The authorities said that they conduct surveys of unsafe buildings every year and undertake required actions.']\n"
     ]
    }
   ],
   "source": [
    "# Creation the list with new long block\n",
    "max_length = 400  # minimum characters in each block\n",
    "i = 0\n",
    "bodies = []\n",
    "while i < len(df):\n",
    "    body = \"\"\n",
    "    body_empty = True\n",
    "    while (len(body) < max_length) and (i < len(df)):\n",
    "        if body_empty:\n",
    "            body = df.loc[i,'text']\n",
    "            body_empty = False\n",
    "        else: body += \" \" + df.loc[i,'text']\n",
    "        i += 1\n",
    "    bodies.append(body)\n",
    "    print(\"Length of blocks =\", len(body))\n",
    "print(f\"\\nNumber of text blocks = {len(bodies)}\\n\")\n",
    "print(\"Text blocks:\\n\", bodies)"
   ]
  },
  {
   "cell_type": "code",
   "execution_count": 15,
   "id": "e4cbacd8",
   "metadata": {},
   "outputs": [],
   "source": [
    "import pandas as pd\n",
    "import matplotlib.pyplot as plt\n",
    "from wordcloud import WordCloud"
   ]
  },
  {
   "cell_type": "code",
   "execution_count": 16,
   "id": "cbb60ef7",
   "metadata": {},
   "outputs": [],
   "source": [
    "#Creating the text variable\n",
    "text = \" \".join(cat.split()[1] for cat in df.text)"
   ]
  },
  {
   "cell_type": "code",
   "execution_count": 17,
   "id": "d5f24719",
   "metadata": {},
   "outputs": [],
   "source": [
    "# Creating word_cloud with text as argument in .generate() method\n",
    "word_cloud = WordCloud(collocations = False, background_color = 'white').generate(text)"
   ]
  },
  {
   "cell_type": "code",
   "execution_count": 19,
   "id": "a43dfab5",
   "metadata": {},
   "outputs": [
    {
     "data": {
      "image/png": "[encoded data removed]",
      "text/plain": [
       "<Figure size 432x288 with 1 Axes>"
      ]
     },
     "metadata": {
      "needs_background": "light"
     },
     "output_type": "display_data"
    }
   ],
   "source": [
    "# Display the generated Word Cloud\n",
    "plt.imshow(word_cloud, interpolation='bilinear')\n",
    "plt.axis(\"off\")\n",
    "plt.show()"
   ]
  },
  {
   "cell_type": "code",
   "execution_count": null,
   "id": "cfad7af3",
   "metadata": {},
   "outputs": [],
   "source": []
  }
 ],
 "metadata": {
  "kernelspec": {
   "display_name": "Python 3",
   "language": "python",
   "name": "python3"
  },
  "language_info": {
   "codemirror_mode": {
    "name": "ipython",
    "version": 3
   },
   "file_extension": ".py",
   "mimetype": "text/x-python",
   "name": "python",
   "nbconvert_exporter": "python",
   "pygments_lexer": "ipython3",
   "version": "3.8.8"
  }
 },
 "nbformat": 4,
 "nbformat_minor": 5
}
