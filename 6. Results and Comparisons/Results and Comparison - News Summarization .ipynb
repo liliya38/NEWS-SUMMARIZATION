{
 "cells": [
  {
   "cell_type": "markdown",
   "id": "92cbfa79",
   "metadata": {},
   "source": [
    "# Importing libraries"
   ]
  },
  {
   "cell_type": "code",
   "execution_count": 1,
   "id": "a24d9fb7",
   "metadata": {},
   "outputs": [],
   "source": [
    "import numpy as np\n",
    "import pandas as pd\n",
    "\n",
    "import matplotlib\n",
    "import matplotlib.pyplot as plt\n",
    "\n",
    "from summarizer import Summarizer,TransformerSummarizer\n",
    "from sklearn.metrics import accuracy_score\n",
    "\n",
    "import warnings\n",
    "warnings.filterwarnings('ignore')"
   ]
  },
  {
   "cell_type": "markdown",
   "id": "983dec60",
   "metadata": {},
   "source": [
    "# Import the data"
   ]
  },
  {
   "cell_type": "code",
   "execution_count": 2,
   "id": "df18db12",
   "metadata": {},
   "outputs": [
    {
     "data": {
      "text/html": [
       "<div>\n",
       "<style scoped>\n",
       "    .dataframe tbody tr th:only-of-type {\n",
       "        vertical-align: middle;\n",
       "    }\n",
       "\n",
       "    .dataframe tbody tr th {\n",
       "        vertical-align: top;\n",
       "    }\n",
       "\n",
       "    .dataframe thead th {\n",
       "        text-align: right;\n",
       "    }\n",
       "</style>\n",
       "<table border=\"1\" class=\"dataframe\">\n",
       "  <thead>\n",
       "    <tr style=\"text-align: right;\">\n",
       "      <th></th>\n",
       "      <th>text</th>\n",
       "    </tr>\n",
       "  </thead>\n",
       "  <tbody>\n",
       "    <tr>\n",
       "      <th>0</th>\n",
       "      <td>India's food regulator Food Safety and Standar...</td>\n",
       "    </tr>\n",
       "    <tr>\n",
       "      <th>1</th>\n",
       "      <td>The mother of Harshit Sharma, the class 12 Cha...</td>\n",
       "    </tr>\n",
       "    <tr>\n",
       "      <th>2</th>\n",
       "      <td>Municipal Corporation of Gurugram on Wednesday...</td>\n",
       "    </tr>\n",
       "    <tr>\n",
       "      <th>3</th>\n",
       "      <td>Scientists, for the first time, successfully f...</td>\n",
       "    </tr>\n",
       "    <tr>\n",
       "      <th>4</th>\n",
       "      <td>A Union Minister of State for Home Affairs inf...</td>\n",
       "    </tr>\n",
       "  </tbody>\n",
       "</table>\n",
       "</div>"
      ],
      "text/plain": [
       "                                                text\n",
       "0  India's food regulator Food Safety and Standar...\n",
       "1  The mother of Harshit Sharma, the class 12 Cha...\n",
       "2  Municipal Corporation of Gurugram on Wednesday...\n",
       "3  Scientists, for the first time, successfully f...\n",
       "4  A Union Minister of State for Home Affairs inf..."
      ]
     },
     "execution_count": 2,
     "metadata": {},
     "output_type": "execute_result"
    }
   ],
   "source": [
    "df= pd.read_csv('C:/Users/Admin/OneDrive/Desktop/Project/news_summary.csv', encoding='latin-1', usecols=['headlines', 'text'])\n",
    "  \n",
    "from_i = 10\n",
    "count = 5\n",
    "headlines = df['headlines']\n",
    "headlines = headlines[from_i:from_i+count].to_list()\n",
    "df = df['text']\n",
    "df = pd.DataFrame(df[from_i:from_i+count])\n",
    "df.reset_index(inplace=True, drop=True)\n",
    "df"
   ]
  },
  {
   "cell_type": "code",
   "execution_count": 3,
   "id": "108813e6",
   "metadata": {},
   "outputs": [
    {
     "name": "stdout",
     "output_type": "stream",
     "text": [
      "<class 'pandas.core.frame.DataFrame'>\n",
      "RangeIndex: 5 entries, 0 to 4\n",
      "Data columns (total 1 columns):\n",
      " #   Column  Non-Null Count  Dtype \n",
      "---  ------  --------------  ----- \n",
      " 0   text    5 non-null      object\n",
      "dtypes: object(1)\n",
      "memory usage: 168.0+ bytes\n"
     ]
    }
   ],
   "source": [
    "df.info()"
   ]
  },
  {
   "cell_type": "code",
   "execution_count": 4,
   "id": "ad4fed13",
   "metadata": {},
   "outputs": [
    {
     "data": {
      "text/plain": [
       "0    India's food regulator Food Safety and Standar...\n",
       "1    The mother of Harshit Sharma, the class 12 Cha...\n",
       "2    Municipal Corporation of Gurugram on Wednesday...\n",
       "3    Scientists, for the first time, successfully f...\n",
       "4    A Union Minister of State for Home Affairs inf...\n",
       "Name: text, dtype: object"
      ]
     },
     "execution_count": 4,
     "metadata": {},
     "output_type": "execute_result"
    }
   ],
   "source": [
    "df['text'].head(10)"
   ]
  },
  {
   "cell_type": "code",
   "execution_count": 5,
   "id": "3dc46922",
   "metadata": {},
   "outputs": [
    {
     "data": {
      "text/plain": [
       "388"
      ]
     },
     "execution_count": 5,
     "metadata": {},
     "output_type": "execute_result"
    }
   ],
   "source": [
    "df['text'].str.len().max()"
   ]
  },
  {
   "cell_type": "code",
   "execution_count": 6,
   "id": "c99b16d0",
   "metadata": {},
   "outputs": [
    {
     "name": "stdout",
     "output_type": "stream",
     "text": [
      "Length of blocks = 704\n",
      "Length of blocks = 743\n",
      "Length of blocks = 388\n",
      "\n",
      "Number of text blocks = 3\n",
      "\n",
      "Text blocks:\n",
      " ['India\\'s food regulator Food Safety and Standards Authority of India (FSSAI) is planning to create a network to collect leftover food and provide it to the needy. It is looking to connect with organisations which can collect, store and distribute leftover food from weddings and large parties. It further added that all food must meet the safety and hygiene standards. The mother of Harshit Sharma, the class 12 Chandigarh boy who got a hoax job offer call from Google, said that the incident \"devastated\" his life. He got a call, after which he shared the information with the school principal, who sent out a press release. Harshit is hospitalised since Google denied giving him a job, his mother added.', 'Municipal Corporation of Gurugram on Wednesday said that 19 out of 45 commercial building owners have decided to pay property tax instead of providing free parking to the public. Notably, MCG earlier offered a property tax waiver for building basements if they were used to provide free parking. However, the owners allegedly said that revenues from parking profited them more. Scientists, for the first time, successfully freed embryos of a piece of faulty DNA that causes a fatal heart disease to run in families. The disease, called hypertrophic cardiomyopathy, causes the heart to stop suddenly and is the result of an error in a single gene. The breakthrough could lead to preventing 10,000 disorders that are passed down the generations.', 'A Union Minister of State for Home Affairs informed the Lok Sabha on Wednesday that Delhi\\'s 2,297 residential buildings under the Central Public Works Department were found to be \"unsafe\". Another 124 buildings under the New Delhi Municipal Council were identified as dangerous. The authorities said that they conduct surveys of unsafe buildings every year and undertake required actions.']\n"
     ]
    }
   ],
   "source": [
    "# Creation the list with new long block\n",
    "max_length = 400  # minimum characters in each block\n",
    "i = 0\n",
    "bodies = []\n",
    "while i < len(df):\n",
    "    body = \"\"\n",
    "    body_empty = True\n",
    "    while (len(body) < max_length) and (i < len(df)):\n",
    "        if body_empty:\n",
    "            body = df.loc[i,'text']\n",
    "            body_empty = False\n",
    "        else: body += \" \" + df.loc[i,'text']\n",
    "        i += 1\n",
    "    bodies.append(body)\n",
    "    print(\"Length of blocks =\", len(body))\n",
    "print(f\"\\nNumber of text blocks = {len(bodies)}\\n\")\n",
    "print(\"Text blocks:\\n\", bodies)"
   ]
  },
  {
   "cell_type": "markdown",
   "id": "0305bf72",
   "metadata": {},
   "source": [
    "# Text Summarizing "
   ]
  },
  {
   "cell_type": "code",
   "execution_count": 7,
   "id": "9cece997",
   "metadata": {},
   "outputs": [],
   "source": [
    "min_length_text = 40"
   ]
  },
  {
   "cell_type": "markdown",
   "id": "907cf3e5",
   "metadata": {},
   "source": [
    "1. BERT Summarizing"
   ]
  },
  {
   "cell_type": "markdown",
   "id": "018793be",
   "metadata": {},
   "source": [
    "It is a pre-trained model that is naturally bidirectional. This pre-trained model can be tuned to easily to perform the NLP tasks as specified, Summarization in our case.\n"
   ]
  },
  {
   "cell_type": "code",
   "execution_count": 8,
   "id": "29f2acfd",
   "metadata": {},
   "outputs": [
    {
     "name": "stdout",
     "output_type": "stream",
     "text": [
      "Wall time: 1min 25s\n"
     ]
    }
   ],
   "source": [
    "%%time\n",
    "bert_summary = []\n",
    "for i in range(len(bodies)):\n",
    "    bert_model = Summarizer()\n",
    "    bert_summary.append(''.join(bert_model(bodies[i], min_length=min_length_text)))"
   ]
  },
  {
   "cell_type": "markdown",
   "id": "0eba4ba0",
   "metadata": {},
   "source": [
    "2. GPT-2 Summarizing"
   ]
  },
  {
   "cell_type": "markdown",
   "id": "5dbe8a30",
   "metadata": {},
   "source": [
    "GPT-2 was trained with the goal of causal language modeling (CLM) and is thus capable of predicting the next token in a sequence. GPT-2 may create syntactically coherent text by utilizing this capability. GPT2 is capable of several tasks, including summarization, generation, and translation."
   ]
  },
  {
   "cell_type": "code",
   "execution_count": 9,
   "id": "9911de5c",
   "metadata": {},
   "outputs": [
    {
     "name": "stderr",
     "output_type": "stream",
     "text": [
      "Some weights of GPT2Model were not initialized from the model checkpoint at gpt2-medium and are newly initialized: ['h.0.attn.masked_bias', 'h.1.attn.masked_bias', 'h.2.attn.masked_bias', 'h.3.attn.masked_bias', 'h.4.attn.masked_bias', 'h.5.attn.masked_bias', 'h.6.attn.masked_bias', 'h.7.attn.masked_bias', 'h.8.attn.masked_bias', 'h.9.attn.masked_bias', 'h.10.attn.masked_bias', 'h.11.attn.masked_bias', 'h.12.attn.masked_bias', 'h.13.attn.masked_bias', 'h.14.attn.masked_bias', 'h.15.attn.masked_bias', 'h.16.attn.masked_bias', 'h.17.attn.masked_bias', 'h.18.attn.masked_bias', 'h.19.attn.masked_bias', 'h.20.attn.masked_bias', 'h.21.attn.masked_bias', 'h.22.attn.masked_bias', 'h.23.attn.masked_bias']\n",
      "You should probably TRAIN this model on a down-stream task to be able to use it for predictions and inference.\n",
      "Some weights of GPT2Model were not initialized from the model checkpoint at gpt2-medium and are newly initialized: ['h.0.attn.masked_bias', 'h.1.attn.masked_bias', 'h.2.attn.masked_bias', 'h.3.attn.masked_bias', 'h.4.attn.masked_bias', 'h.5.attn.masked_bias', 'h.6.attn.masked_bias', 'h.7.attn.masked_bias', 'h.8.attn.masked_bias', 'h.9.attn.masked_bias', 'h.10.attn.masked_bias', 'h.11.attn.masked_bias', 'h.12.attn.masked_bias', 'h.13.attn.masked_bias', 'h.14.attn.masked_bias', 'h.15.attn.masked_bias', 'h.16.attn.masked_bias', 'h.17.attn.masked_bias', 'h.18.attn.masked_bias', 'h.19.attn.masked_bias', 'h.20.attn.masked_bias', 'h.21.attn.masked_bias', 'h.22.attn.masked_bias', 'h.23.attn.masked_bias']\n",
      "You should probably TRAIN this model on a down-stream task to be able to use it for predictions and inference.\n",
      "Some weights of GPT2Model were not initialized from the model checkpoint at gpt2-medium and are newly initialized: ['h.0.attn.masked_bias', 'h.1.attn.masked_bias', 'h.2.attn.masked_bias', 'h.3.attn.masked_bias', 'h.4.attn.masked_bias', 'h.5.attn.masked_bias', 'h.6.attn.masked_bias', 'h.7.attn.masked_bias', 'h.8.attn.masked_bias', 'h.9.attn.masked_bias', 'h.10.attn.masked_bias', 'h.11.attn.masked_bias', 'h.12.attn.masked_bias', 'h.13.attn.masked_bias', 'h.14.attn.masked_bias', 'h.15.attn.masked_bias', 'h.16.attn.masked_bias', 'h.17.attn.masked_bias', 'h.18.attn.masked_bias', 'h.19.attn.masked_bias', 'h.20.attn.masked_bias', 'h.21.attn.masked_bias', 'h.22.attn.masked_bias', 'h.23.attn.masked_bias']\n",
      "You should probably TRAIN this model on a down-stream task to be able to use it for predictions and inference.\n"
     ]
    },
    {
     "name": "stdout",
     "output_type": "stream",
     "text": [
      "Wall time: 2min 36s\n"
     ]
    }
   ],
   "source": [
    "%%time\n",
    "gpt_summary = []\n",
    "for i in range(len(bodies)):\n",
    "    GPT2_model = TransformerSummarizer(transformer_type=\"GPT2\",transformer_model_key=\"gpt2-medium\")\n",
    "    gpt_summary.append(''.join(GPT2_model(bodies[i], min_length=min_length_text)))"
   ]
  },
  {
   "cell_type": "markdown",
   "id": "d4db60f6",
   "metadata": {},
   "source": [
    "3. XLNet Summarizing "
   ]
  },
  {
   "cell_type": "markdown",
   "id": "8901473b",
   "metadata": {},
   "source": [
    "XLNet is a generalized autoregressive language model that learns unsupervised representations of text sequences. This model incorporates modelling techniques from Autoencoder(AE) models(BERT) into AR models while avoiding limitations of AE."
   ]
  },
  {
   "cell_type": "code",
   "execution_count": 10,
   "id": "ea520ba3",
   "metadata": {},
   "outputs": [
    {
     "name": "stdout",
     "output_type": "stream",
     "text": [
      "Wall time: 34 s\n"
     ]
    }
   ],
   "source": [
    "%%time\n",
    "xlnet_summary = []\n",
    "for i in range(len(bodies)):\n",
    "    model = TransformerSummarizer(transformer_type=\"XLNet\",transformer_model_key=\"xlnet-base-cased\")\n",
    "    xlnet_summary.append(''.join(model(bodies[i], min_length=min_length_text)))"
   ]
  },
  {
   "cell_type": "markdown",
   "id": "824a0e09",
   "metadata": {},
   "source": [
    "# Results "
   ]
  },
  {
   "cell_type": "code",
   "execution_count": 11,
   "id": "dbcf8da3",
   "metadata": {},
   "outputs": [
    {
     "name": "stdout",
     "output_type": "stream",
     "text": [
      "All Summarizing Results:\n",
      "\n",
      "ORIGINAL TEXT:\n",
      "India's food regulator Food Safety and Standards Authority of India (FSSAI) is planning to create a network to collect leftover food and provide it to the needy. It is looking to connect with organisations which can collect, store and distribute leftover food from weddings and large parties. It further added that all food must meet the safety and hygiene standards. The mother of Harshit Sharma, the class 12 Chandigarh boy who got a hoax job offer call from Google, said that the incident \"devastated\" his life. He got a call, after which he shared the information with the school principal, who sent out a press release. Harshit is hospitalised since Google denied giving him a job, his mother added.\n",
      "\n",
      "BERT Summarizing Result:\n",
      "India's food regulator Food Safety and Standards Authority of India (FSSAI) is planning to create a network to collect leftover food and provide it to the needy.\n",
      "\n",
      "GPT-2 Summarizing Result:\n",
      "India's food regulator Food Safety and Standards Authority of India (FSSAI) is planning to create a network to collect leftover food and provide it to the needy. Harshit is hospitalised since Google denied giving him a job, his mother added.\n",
      "\n",
      "XLNet Summarizing Result:\n",
      "India's food regulator Food Safety and Standards Authority of India (FSSAI) is planning to create a network to collect leftover food and provide it to the needy.\n",
      "\n",
      "Original headline:\n",
      "Food regulator planning leftover banks to feed hungry people\n",
      "\n",
      "\n",
      "\n",
      "ORIGINAL TEXT:\n",
      "Municipal Corporation of Gurugram on Wednesday said that 19 out of 45 commercial building owners have decided to pay property tax instead of providing free parking to the public. Notably, MCG earlier offered a property tax waiver for building basements if they were used to provide free parking. However, the owners allegedly said that revenues from parking profited them more. Scientists, for the first time, successfully freed embryos of a piece of faulty DNA that causes a fatal heart disease to run in families. The disease, called hypertrophic cardiomyopathy, causes the heart to stop suddenly and is the result of an error in a single gene. The breakthrough could lead to preventing 10,000 disorders that are passed down the generations.\n",
      "\n",
      "BERT Summarizing Result:\n",
      "Municipal Corporation of Gurugram on Wednesday said that 19 out of 45 commercial building owners have decided to pay property tax instead of providing free parking to the public.\n",
      "\n",
      "GPT-2 Summarizing Result:\n",
      "Municipal Corporation of Gurugram on Wednesday said that 19 out of 45 commercial building owners have decided to pay property tax instead of providing free parking to the public. Notably, MCG earlier offered a property tax waiver for building basements if they were used to provide free parking.\n",
      "\n",
      "XLNet Summarizing Result:\n",
      "Municipal Corporation of Gurugram on Wednesday said that 19 out of 45 commercial building owners have decided to pay property tax instead of providing free parking to the public. Scientists, for the first time, successfully freed embryos of a piece of faulty DNA that causes a fatal heart disease to run in families.\n",
      "\n",
      "Original headline:\n",
      "Call devastated his life: Mom of boy who got 'Google' offer\n",
      "\n",
      "\n",
      "\n",
      "ORIGINAL TEXT:\n",
      "A Union Minister of State for Home Affairs informed the Lok Sabha on Wednesday that Delhi's 2,297 residential buildings under the Central Public Works Department were found to be \"unsafe\". Another 124 buildings under the New Delhi Municipal Council were identified as dangerous. The authorities said that they conduct surveys of unsafe buildings every year and undertake required actions.\n",
      "\n",
      "BERT Summarizing Result:\n",
      "A Union Minister of State for Home Affairs informed the Lok Sabha on Wednesday that Delhi's 2,297 residential buildings under the Central Public Works Department were found to be \"unsafe\".\n",
      "\n",
      "GPT-2 Summarizing Result:\n",
      "A Union Minister of State for Home Affairs informed the Lok Sabha on Wednesday that Delhi's 2,297 residential buildings under the Central Public Works Department were found to be \"unsafe\". Another 124 buildings under the New Delhi Municipal Council were identified as dangerous.\n",
      "\n",
      "XLNet Summarizing Result:\n",
      "A Union Minister of State for Home Affairs informed the Lok Sabha on Wednesday that Delhi's 2,297 residential buildings under the Central Public Works Department were found to be \"unsafe\". Another 124 buildings under the New Delhi Municipal Council were identified as dangerous.\n",
      "\n",
      "Original headline:\n",
      "19 Gurugram buildings to pay property tax over free parking\n",
      "\n",
      "\n",
      "\n",
      "Wall time: 0 ns\n"
     ]
    }
   ],
   "source": [
    "%%time\n",
    "print(\"All Summarizing Results:\\n\")\n",
    "for i in range(len(bodies)):\n",
    "    print(\"ORIGINAL TEXT:\")\n",
    "    print(bodies[i])\n",
    "    print(\"\\nBERT Summarizing Result:\")\n",
    "    print(bert_summary[i])\n",
    "    print(\"\\nGPT-2 Summarizing Result:\")\n",
    "    print(gpt_summary[i])\n",
    "    print(\"\\nXLNet Summarizing Result:\")\n",
    "    print(xlnet_summary[i])\n",
    "    print(\"\\nOriginal headline:\")\n",
    "    print(headlines[i])\n",
    "    print(\"\\n\\n\")"
   ]
  },
  {
   "cell_type": "code",
   "execution_count": null,
   "id": "cf08dac0",
   "metadata": {},
   "outputs": [],
   "source": []
  },
  {
   "cell_type": "code",
   "execution_count": null,
   "id": "8bcdc469",
   "metadata": {},
   "outputs": [],
   "source": []
  },
  {
   "cell_type": "code",
   "execution_count": null,
   "id": "5c11aa2e",
   "metadata": {},
   "outputs": [],
   "source": []
  },
  {
   "cell_type": "code",
   "execution_count": null,
   "id": "4d9177dd",
   "metadata": {},
   "outputs": [],
   "source": []
  }
 ],
 "metadata": {
  "kernelspec": {
   "display_name": "Python 3",
   "language": "python",
   "name": "python3"
  },
  "language_info": {
   "codemirror_mode": {
    "name": "ipython",
    "version": 3
   },
   "file_extension": ".py",
   "mimetype": "text/x-python",
   "name": "python",
   "nbconvert_exporter": "python",
   "pygments_lexer": "ipython3",
   "version": "3.8.8"
  }
 },
 "nbformat": 4,
 "nbformat_minor": 5
}
